{
 "cells": [
  {
   "cell_type": "code",
   "execution_count": null,
   "metadata": {},
   "outputs": [
    {
     "ename": "",
     "evalue": "",
     "output_type": "error",
     "traceback": [
      "\u001b[1;31mRunning cells with 'usr (Python 3.8.10)' requires the ipykernel package.\n",
      "\u001b[1;31mRun the following command to install 'ipykernel' into the Python environment. \n",
      "\u001b[1;31mCommand: '/bin/python3.8 -m pip install ipykernel -U --force-reinstall'"
     ]
    }
   ],
   "source": [
    "import numpy as np\n",
    "import matplotlib.pyplot as plt\n",
    "import subprocess\n",
    "from math import pi, sin, cos\n",
    "from matplotlib.path import Path\n",
    "from matplotlib.patches import PathPatch\n",
    "from matplotlib.animation import FuncAnimation"
   ]
  },
  {
   "cell_type": "code",
   "execution_count": 24,
   "metadata": {},
   "outputs": [],
   "source": [
    "# Compile C++ files\n",
    "command = \"make\"\n",
    "subprocess.run(command, shell=True, text=True, capture_output=True)\n",
    "command = \"/mnt/c/Users/snir2/OneDrive\\ -\\ Technion/Msc.\\ Electrical\\ Engineering/Thesis/code/main.exe\"\n",
    "process = subprocess.run(command, shell=True, text=True, capture_output=True)"
   ]
  },
  {
   "cell_type": "code",
   "execution_count": 25,
   "metadata": {},
   "outputs": [
    {
     "name": "stdout",
     "output_type": "stream",
     "text": [
      "stdout:  \n",
      "out_code:  1\n"
     ]
    }
   ],
   "source": [
    "# Check if code worked\n",
    "out_code = process.returncode\n",
    "stdout = process.stdout\n",
    "print(\"stdout: \", stdout)\n",
    "print(\"out_code: \", out_code)"
   ]
  },
  {
   "cell_type": "code",
   "execution_count": 26,
   "metadata": {},
   "outputs": [],
   "source": [
    "if out_code == 0:\n",
    "    \n",
    "   # Path to the file\n",
    "    file_path = 'output.txt'\n",
    "\n",
    "    # Initialize an empty list to hold the data\n",
    "    boat_data = []\n",
    "\n",
    "    # Open the file and read the contents\n",
    "    with open(file_path, 'r') as file:\n",
    "        for line in file:\n",
    "            # Convert each line to a list of floats\n",
    "            numbers = [float(num) for num in line.split()]\n",
    "            # Append the list of floats to the data list\n",
    "            boat_data.append(numbers)\n",
    "\n",
    "    # Convert the list of lists into a NumPy array\n",
    "    boat_data = np.array(boat_data)\n",
    "    # print(pos)\n",
    "    x = boat_data[:, 0]\n",
    "    y = boat_data[:, 1]\n",
    "    theta = boat_data[:, 2]\n",
    "    x_dot = boat_data[:, 3]\n",
    "    y_dot = boat_data[:, 4]\n",
    "    omega = boat_data[:, 5]\n",
    "    t = boat_data[:, 6]\n",
    "    F = boat_data[:, 7]\n",
    "    eta = boat_data[:, 8]\n",
    "\n",
    "    dt = t[1] - t[0]\n",
    "    n = len(x)\n",
    "\n",
    "    step = 1\n",
    "    x_anim = x[::step]\n",
    "    y_anim = y[::step]\n",
    "    theta_anim = theta[::step]\n",
    "    t_anim = t[::step]\n",
    "    eta_anim = eta[::step]\n",
    "    size = 1e0 # Scaling parameter for size of ship on plot\n",
    "    # Create the figure and axis\n",
    "    fig, ax = plt.subplots()\n",
    "    print(str(min(x_anim)) + \" \" + str(min(y_anim)))\n",
    "    print(str(max(x_anim)) + \" \" + str(max(y_anim)))\n",
    "\n",
    "    ax.set_xlim([min(x_anim) - size, max(x_anim) + size])\n",
    "    ax.set_ylim([min(y_anim) - size, max(y_anim) + size])\n",
    "    # Set equal aspect ratio\n",
    "    ax.set_aspect('equal')\n",
    "    line, = ax.plot([], [], 'k-')  # Line object to update the boat's position\n",
    "\n",
    "    # Initialize the animation by creating an empty plot.\n",
    "    def init():\n",
    "        line.set_data([], [])\n",
    "        return line,\n",
    "\n",
    "    # Animation function which updates the figure\n",
    "    def animate(i):\n",
    "        # Create little boats\n",
    "        # Create a custom boat marker\n",
    "        rudder_L = 0.3\n",
    "        \n",
    "        boat_vertices = np.array([\n",
    "            [-0.5, 0.5], # Bow port side\n",
    "            [-0.5, -0.5], # Stern port side\n",
    "            [0, -0.5], # Stern middle\n",
    "            \n",
    "            [rudder_L * sin(eta_anim[i]), -0.5 - rudder_L * cos(eta_anim[i])], # End of rudder\n",
    "            [0, -0.5], # Stern middle\n",
    "            [0.5, -0.5], # Stern stbd side\n",
    "            [0.5, 0.5], # Bow stbd side\n",
    "            [0, 1], #Bow, head of ship\n",
    "            [-0.5, 0.5], # Bow port side, complete vertice circle\n",
    "        ]) * size\n",
    "        print(f\"Time: {dt * i:.4f} [s]\")\n",
    "\n",
    "        # boat_codes = [Path.MOVETO, Path.LINETO, Path.LINETO, Path.LINETO, Path.LINETO, Path.CLOSEPOLY]\n",
    "\n",
    "        # boat_marker = Path(boat_vertices, boat_codes)\n",
    "        # Calculate the rotation matrix based on the heading angle theta\n",
    "        # print(theta_anim[i])\n",
    "        rotation_matrix = np.array([\n",
    "            [np.cos(theta_anim[i]), -np.sin(theta_anim[i])],\n",
    "            [np.sin(theta_anim[i]), np.cos(theta_anim[i])]\n",
    "        ])\n",
    "        rotated_vertices = boat_vertices @ rotation_matrix + np.array([x_anim[i], y_anim[i]]).T\n",
    "        \n",
    "        line.set_data(rotated_vertices[:, 0], rotated_vertices[:, 1])\n",
    "        return line,\n",
    "\n",
    "    # Create the animation\n",
    "    ani = FuncAnimation(fig, animate, frames=len(t_anim), init_func=init, blit=True, interval=4)\n",
    "\n",
    "    # To save the animation, you can use:\n",
    "    # ani.save('boat_animation.mp4', writer='ffmpeg')\n",
    "\n",
    "    plt.show()"
   ]
  }
 ],
 "metadata": {
  "kernelspec": {
   "display_name": "Python 3",
   "language": "python",
   "name": "python3"
  },
  "language_info": {
   "codemirror_mode": {
    "name": "ipython",
    "version": 3
   },
   "file_extension": ".py",
   "mimetype": "text/x-python",
   "name": "python",
   "nbconvert_exporter": "python",
   "pygments_lexer": "ipython3",
   "version": "3.11.9"
  }
 },
 "nbformat": 4,
 "nbformat_minor": 2
}
